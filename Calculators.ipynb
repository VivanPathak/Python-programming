{
 "cells": [
  {
   "cell_type": "code",
   "execution_count": 2,
   "id": "fc184ea2",
   "metadata": {},
   "outputs": [
    {
     "name": "stdout",
     "output_type": "stream",
     "text": [
      "Please enter your height in meters: 1.5\n",
      "Please enter your weight in Kg: 50\n",
      "BMI is:  22.22222222222222\n"
     ]
    }
   ],
   "source": [
    "#BMI Calculator \n",
    "Height = float(input(\"Please enter your height in meters: \"))\n",
    "Weight = float(input(\"Please enter your weight in Kg: \"))\n",
    "BMI = Weight / (Height ** 2)\n",
    "print(\"BMI is: \" , BMI)"
   ]
  },
  {
   "cell_type": "code",
   "execution_count": 3,
   "id": "2210ee99",
   "metadata": {},
   "outputs": [
    {
     "name": "stdout",
     "output_type": "stream",
     "text": [
      "Please enter your first Number: 3\n",
      "Please enter your second Number: 4\n",
      "Hypotenuse:  5.0\n"
     ]
    }
   ],
   "source": [
    "#Hypotenuse Calculator\n",
    "A = float(input(\"Please enter your first Number: \"))\n",
    "B = float(input(\"Please enter your second Number: \"))\n",
    "C = (A**2 + B**2) ** 0.5\n",
    "print(\"Hypotenuse: \", C)"
   ]
  },
  {
   "cell_type": "code",
   "execution_count": null,
   "id": "bb3f30c3",
   "metadata": {},
   "outputs": [],
   "source": []
  }
 ],
 "metadata": {
  "kernelspec": {
   "display_name": "Python 3 (ipykernel)",
   "language": "python",
   "name": "python3"
  },
  "language_info": {
   "codemirror_mode": {
    "name": "ipython",
    "version": 3
   },
   "file_extension": ".py",
   "mimetype": "text/x-python",
   "name": "python",
   "nbconvert_exporter": "python",
   "pygments_lexer": "ipython3",
   "version": "3.9.7"
  }
 },
 "nbformat": 4,
 "nbformat_minor": 5
}
