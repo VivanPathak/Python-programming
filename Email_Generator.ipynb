{
 "cells": [
  {
   "cell_type": "code",
   "execution_count": 3,
   "id": "e3da001e",
   "metadata": {},
   "outputs": [
    {
     "name": "stdout",
     "output_type": "stream",
     "text": [
      "Please enter your username: Vivan\n",
      "Please enter your company name: Google\n",
      "vivan@google.com Here is your recommended Gmail Address. \n"
     ]
    }
   ],
   "source": [
    "Username = input(\"Please enter your username: \")\n",
    "Username_Edit = Username.replace(\" \",\"\")\n",
    "Company_Name = input(\"Please enter your company name: \")\n",
    "Company_Edit = Company_Name.replace(\" \",\"\")\n",
    "Email_Address = Username_Edit + \"@\" + Company_Edit + \".com\"\n",
    "Email_Edit = Email_Address.lower()\n",
    "print(Email_Edit,\"Here is your recommended Gmail Address. \")"
   ]
  },
  {
   "cell_type": "code",
   "execution_count": null,
   "id": "158f77bf",
   "metadata": {},
   "outputs": [],
   "source": []
  }
 ],
 "metadata": {
  "kernelspec": {
   "display_name": "Python 3 (ipykernel)",
   "language": "python",
   "name": "python3"
  },
  "language_info": {
   "codemirror_mode": {
    "name": "ipython",
    "version": 3
   },
   "file_extension": ".py",
   "mimetype": "text/x-python",
   "name": "python",
   "nbconvert_exporter": "python",
   "pygments_lexer": "ipython3",
   "version": "3.9.7"
  }
 },
 "nbformat": 4,
 "nbformat_minor": 5
}
