{
 "cells": [
  {
   "cell_type": "code",
   "execution_count": 1,
   "id": "4d9ca075",
   "metadata": {},
   "outputs": [],
   "source": [
    "Name = \"Vivan\""
   ]
  },
  {
   "cell_type": "code",
   "execution_count": 2,
   "id": "324895ec",
   "metadata": {},
   "outputs": [],
   "source": [
    "Age = 13"
   ]
  },
  {
   "cell_type": "code",
   "execution_count": 3,
   "id": "6830551c",
   "metadata": {},
   "outputs": [],
   "source": [
    "Address = \"Bhopal\""
   ]
  },
  {
   "cell_type": "code",
   "execution_count": 4,
   "id": "e7492d98",
   "metadata": {},
   "outputs": [
    {
     "name": "stdout",
     "output_type": "stream",
     "text": [
      "Vivan  13  Bhopal\n"
     ]
    }
   ],
   "source": [
    "print(Name,\"\",Age,\"\",Address)     "
   ]
  },
  {
   "cell_type": "code",
   "execution_count": 5,
   "id": "0664c6d9",
   "metadata": {},
   "outputs": [
    {
     "name": "stdout",
     "output_type": "stream",
     "text": [
      "VivanPathak\n"
     ]
    }
   ],
   "source": [
    "print(\"Vivan\" + \"Pathak\")"
   ]
  },
  {
   "cell_type": "code",
   "execution_count": 6,
   "id": "eaaa6d7b",
   "metadata": {},
   "outputs": [
    {
     "data": {
      "text/plain": [
       "str"
      ]
     },
     "execution_count": 6,
     "metadata": {},
     "output_type": "execute_result"
    }
   ],
   "source": [
    "type(Address)"
   ]
  },
  {
   "cell_type": "code",
   "execution_count": 7,
   "id": "411db5d7",
   "metadata": {},
   "outputs": [
    {
     "name": "stdout",
     "output_type": "stream",
     "text": [
      "Please enter First Name: Vivan\n"
     ]
    },
    {
     "data": {
      "text/plain": [
       "'Vivan'"
      ]
     },
     "execution_count": 7,
     "metadata": {},
     "output_type": "execute_result"
    }
   ],
   "source": [
    "input(\"Please enter First Name: \")"
   ]
  },
  {
   "cell_type": "code",
   "execution_count": 8,
   "id": "8e096b98",
   "metadata": {},
   "outputs": [
    {
     "name": "stdout",
     "output_type": "stream",
     "text": [
      "Please enter First Name: Vivan\n"
     ]
    }
   ],
   "source": [
    "a = input(\"Please enter First Name: \")"
   ]
  },
  {
   "cell_type": "code",
   "execution_count": 9,
   "id": "158439c6",
   "metadata": {},
   "outputs": [
    {
     "data": {
      "text/plain": [
       "str"
      ]
     },
     "execution_count": 9,
     "metadata": {},
     "output_type": "execute_result"
    }
   ],
   "source": [
    "type(a)"
   ]
  },
  {
   "cell_type": "code",
   "execution_count": null,
   "id": "89c30345",
   "metadata": {},
   "outputs": [],
   "source": []
  }
 ],
 "metadata": {
  "kernelspec": {
   "display_name": "Python 3 (ipykernel)",
   "language": "python",
   "name": "python3"
  },
  "language_info": {
   "codemirror_mode": {
    "name": "ipython",
    "version": 3
   },
   "file_extension": ".py",
   "mimetype": "text/x-python",
   "name": "python",
   "nbconvert_exporter": "python",
   "pygments_lexer": "ipython3",
   "version": "3.9.7"
  }
 },
 "nbformat": 4,
 "nbformat_minor": 5
}
