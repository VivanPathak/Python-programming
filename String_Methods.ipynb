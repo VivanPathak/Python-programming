{
 "cells": [
  {
   "cell_type": "code",
   "execution_count": 1,
   "id": "8df735a6",
   "metadata": {},
   "outputs": [],
   "source": [
    "A = \"Vivan\""
   ]
  },
  {
   "cell_type": "code",
   "execution_count": 2,
   "id": "4a084878",
   "metadata": {},
   "outputs": [
    {
     "data": {
      "text/plain": [
       "str"
      ]
     },
     "execution_count": 2,
     "metadata": {},
     "output_type": "execute_result"
    }
   ],
   "source": [
    "type(A)"
   ]
  },
  {
   "cell_type": "code",
   "execution_count": 3,
   "id": "d47db0a5",
   "metadata": {},
   "outputs": [],
   "source": [
    "B = 'Vivan'"
   ]
  },
  {
   "cell_type": "code",
   "execution_count": 4,
   "id": "a267fcde",
   "metadata": {},
   "outputs": [
    {
     "data": {
      "text/plain": [
       "str"
      ]
     },
     "execution_count": 4,
     "metadata": {},
     "output_type": "execute_result"
    }
   ],
   "source": [
    "type(B)"
   ]
  },
  {
   "cell_type": "code",
   "execution_count": 5,
   "id": "a5312bb9",
   "metadata": {},
   "outputs": [
    {
     "ename": "SyntaxError",
     "evalue": "EOL while scanning string literal (Temp/ipykernel_9852/1931208006.py, line 1)",
     "output_type": "error",
     "traceback": [
      "\u001b[1;36m  File \u001b[1;32m\"C:\\Users\\lenovo\\AppData\\Local\\Temp/ipykernel_9852/1931208006.py\"\u001b[1;36m, line \u001b[1;32m1\u001b[0m\n\u001b[1;33m    C = \"Vivan'\u001b[0m\n\u001b[1;37m               ^\u001b[0m\n\u001b[1;31mSyntaxError\u001b[0m\u001b[1;31m:\u001b[0m EOL while scanning string literal\n"
     ]
    }
   ],
   "source": [
    "C = \"Vivan'"
   ]
  },
  {
   "cell_type": "code",
   "execution_count": 6,
   "id": "3e68d28c",
   "metadata": {},
   "outputs": [],
   "source": [
    "String_1 = \"INDIA\""
   ]
  },
  {
   "cell_type": "code",
   "execution_count": 7,
   "id": "7468aa27",
   "metadata": {},
   "outputs": [
    {
     "data": {
      "text/plain": [
       "'I'"
      ]
     },
     "execution_count": 7,
     "metadata": {},
     "output_type": "execute_result"
    }
   ],
   "source": [
    "String_1[0]"
   ]
  },
  {
   "cell_type": "code",
   "execution_count": 8,
   "id": "40d4b204",
   "metadata": {},
   "outputs": [
    {
     "data": {
      "text/plain": [
       "'A'"
      ]
     },
     "execution_count": 8,
     "metadata": {},
     "output_type": "execute_result"
    }
   ],
   "source": [
    "String_1[4]"
   ]
  },
  {
   "cell_type": "code",
   "execution_count": 9,
   "id": "7359f001",
   "metadata": {},
   "outputs": [
    {
     "data": {
      "text/plain": [
       "'A'"
      ]
     },
     "execution_count": 9,
     "metadata": {},
     "output_type": "execute_result"
    }
   ],
   "source": [
    "String_1[-1]"
   ]
  },
  {
   "cell_type": "code",
   "execution_count": 3,
   "id": "93fbb216",
   "metadata": {},
   "outputs": [],
   "source": [
    "String_2 = \"I am a student.\""
   ]
  },
  {
   "cell_type": "code",
   "execution_count": 4,
   "id": "72a4cf8d",
   "metadata": {},
   "outputs": [
    {
     "data": {
      "text/plain": [
       "'am a st'"
      ]
     },
     "execution_count": 4,
     "metadata": {},
     "output_type": "execute_result"
    }
   ],
   "source": [
    "String_2[2:9]"
   ]
  },
  {
   "cell_type": "code",
   "execution_count": 5,
   "id": "8a9f678b",
   "metadata": {},
   "outputs": [
    {
     "data": {
      "text/plain": [
       "'I am a student.'"
      ]
     },
     "execution_count": 5,
     "metadata": {},
     "output_type": "execute_result"
    }
   ],
   "source": [
    "String_2[:]"
   ]
  },
  {
   "cell_type": "code",
   "execution_count": 6,
   "id": "20db3a41",
   "metadata": {},
   "outputs": [
    {
     "data": {
      "text/plain": [
       "'I am '"
      ]
     },
     "execution_count": 6,
     "metadata": {},
     "output_type": "execute_result"
    }
   ],
   "source": [
    "String_2[:5]"
   ]
  },
  {
   "cell_type": "code",
   "execution_count": 7,
   "id": "36c478f2",
   "metadata": {},
   "outputs": [
    {
     "data": {
      "text/plain": [
       "21"
      ]
     },
     "execution_count": 7,
     "metadata": {},
     "output_type": "execute_result"
    }
   ],
   "source": [
    "len('VIVAN IS A GOOD HUMAN')"
   ]
  },
  {
   "cell_type": "code",
   "execution_count": 8,
   "id": "5c2e665b",
   "metadata": {},
   "outputs": [
    {
     "data": {
      "text/plain": [
       "15"
      ]
     },
     "execution_count": 8,
     "metadata": {},
     "output_type": "execute_result"
    }
   ],
   "source": [
    "len(String_2)"
   ]
  },
  {
   "cell_type": "code",
   "execution_count": 10,
   "id": "9685ebd5",
   "metadata": {},
   "outputs": [
    {
     "data": {
      "text/plain": [
       "'    <<<LONDON>>>   '"
      ]
     },
     "execution_count": 10,
     "metadata": {},
     "output_type": "execute_result"
    }
   ],
   "source": [
    "\"    <<<LONDON>>>   \".strip('<')"
   ]
  },
  {
   "cell_type": "code",
   "execution_count": 11,
   "id": "6b8eba3f",
   "metadata": {},
   "outputs": [
    {
     "data": {
      "text/plain": [
       "'LONDON>>>   '"
      ]
     },
     "execution_count": 11,
     "metadata": {},
     "output_type": "execute_result"
    }
   ],
   "source": [
    "\"<<<LONDON>>>   \".strip('<')"
   ]
  },
  {
   "cell_type": "code",
   "execution_count": 12,
   "id": "558dc39a",
   "metadata": {},
   "outputs": [
    {
     "data": {
      "text/plain": [
       "'L'"
      ]
     },
     "execution_count": 12,
     "metadata": {},
     "output_type": "execute_result"
    }
   ],
   "source": [
    "\"      L      \".strip()"
   ]
  },
  {
   "cell_type": "code",
   "execution_count": 13,
   "id": "5544c2d2",
   "metadata": {},
   "outputs": [
    {
     "data": {
      "text/plain": [
       "'london is in england'"
      ]
     },
     "execution_count": 13,
     "metadata": {},
     "output_type": "execute_result"
    }
   ],
   "source": [
    "\"LONDON IS IN ENGLAND\".lower()"
   ]
  },
  {
   "cell_type": "code",
   "execution_count": 14,
   "id": "2968b9c3",
   "metadata": {},
   "outputs": [
    {
     "data": {
      "text/plain": [
       "'LONDON IS IN ENGLAND'"
      ]
     },
     "execution_count": 14,
     "metadata": {},
     "output_type": "execute_result"
    }
   ],
   "source": [
    "'london is in england'.upper()"
   ]
  },
  {
   "cell_type": "code",
   "execution_count": 15,
   "id": "2ab7369a",
   "metadata": {},
   "outputs": [
    {
     "data": {
      "text/plain": [
       "'London is the capital of England.'"
      ]
     },
     "execution_count": 15,
     "metadata": {},
     "output_type": "execute_result"
    }
   ],
   "source": [
    "\"London is the capital of Birmingham.\".replace(\"Birmingham\",\"England\")"
   ]
  },
  {
   "cell_type": "code",
   "execution_count": null,
   "id": "ae0b8592",
   "metadata": {},
   "outputs": [],
   "source": []
  }
 ],
 "metadata": {
  "kernelspec": {
   "display_name": "Python 3 (ipykernel)",
   "language": "python",
   "name": "python3"
  },
  "language_info": {
   "codemirror_mode": {
    "name": "ipython",
    "version": 3
   },
   "file_extension": ".py",
   "mimetype": "text/x-python",
   "name": "python",
   "nbconvert_exporter": "python",
   "pygments_lexer": "ipython3",
   "version": "3.9.7"
  }
 },
 "nbformat": 4,
 "nbformat_minor": 5
}
