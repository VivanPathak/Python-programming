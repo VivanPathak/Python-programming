{
 "cells": [
  {
   "cell_type": "code",
   "execution_count": 4,
   "id": "559ba9a4",
   "metadata": {},
   "outputs": [],
   "source": [
    "A = 10\n",
    "B = 99.9\n",
    "C = 10.j"
   ]
  },
  {
   "cell_type": "code",
   "execution_count": 5,
   "id": "ce66bb33",
   "metadata": {},
   "outputs": [
    {
     "data": {
      "text/plain": [
       "int"
      ]
     },
     "execution_count": 5,
     "metadata": {},
     "output_type": "execute_result"
    }
   ],
   "source": [
    "type(A)"
   ]
  },
  {
   "cell_type": "code",
   "execution_count": 6,
   "id": "bfb0cfb5",
   "metadata": {},
   "outputs": [
    {
     "data": {
      "text/plain": [
       "float"
      ]
     },
     "execution_count": 6,
     "metadata": {},
     "output_type": "execute_result"
    }
   ],
   "source": [
    "type(B)"
   ]
  },
  {
   "cell_type": "code",
   "execution_count": 7,
   "id": "5c13fc81",
   "metadata": {},
   "outputs": [
    {
     "data": {
      "text/plain": [
       "complex"
      ]
     },
     "execution_count": 7,
     "metadata": {},
     "output_type": "execute_result"
    }
   ],
   "source": [
    "type(C)"
   ]
  },
  {
   "cell_type": "code",
   "execution_count": 9,
   "id": "33220136",
   "metadata": {},
   "outputs": [],
   "source": [
    "Number_1 = 14\n",
    "Number_2 = 32"
   ]
  },
  {
   "cell_type": "code",
   "execution_count": 13,
   "id": "ce5851f0",
   "metadata": {},
   "outputs": [],
   "source": [
    "Number_3 = 54.2\n",
    "Number_4 = 24"
   ]
  },
  {
   "cell_type": "code",
   "execution_count": 14,
   "id": "76a4aba7",
   "metadata": {},
   "outputs": [
    {
     "data": {
      "text/plain": [
       "46"
      ]
     },
     "execution_count": 14,
     "metadata": {},
     "output_type": "execute_result"
    }
   ],
   "source": [
    "Number_1 + Number_2"
   ]
  },
  {
   "cell_type": "code",
   "execution_count": 15,
   "id": "6f5d1ca6",
   "metadata": {},
   "outputs": [
    {
     "data": {
      "text/plain": [
       "78.2"
      ]
     },
     "execution_count": 15,
     "metadata": {},
     "output_type": "execute_result"
    }
   ],
   "source": [
    "Number_3 + Number_4 "
   ]
  },
  {
   "cell_type": "code",
   "execution_count": 16,
   "id": "7e94f7c3",
   "metadata": {},
   "outputs": [
    {
     "data": {
      "text/plain": [
       "-18"
      ]
     },
     "execution_count": 16,
     "metadata": {},
     "output_type": "execute_result"
    }
   ],
   "source": [
    "Number_1 - Number_2"
   ]
  },
  {
   "cell_type": "code",
   "execution_count": 17,
   "id": "70114b8d",
   "metadata": {},
   "outputs": [
    {
     "data": {
      "text/plain": [
       "30.200000000000003"
      ]
     },
     "execution_count": 17,
     "metadata": {},
     "output_type": "execute_result"
    }
   ],
   "source": [
    "Number_3 - Number_4"
   ]
  },
  {
   "cell_type": "code",
   "execution_count": 18,
   "id": "9a667eab",
   "metadata": {},
   "outputs": [
    {
     "data": {
      "text/plain": [
       "448"
      ]
     },
     "execution_count": 18,
     "metadata": {},
     "output_type": "execute_result"
    }
   ],
   "source": [
    "Number_2 * Number_1"
   ]
  },
  {
   "cell_type": "code",
   "execution_count": 19,
   "id": "74f9a879",
   "metadata": {},
   "outputs": [
    {
     "data": {
      "text/plain": [
       "1300.8000000000002"
      ]
     },
     "execution_count": 19,
     "metadata": {},
     "output_type": "execute_result"
    }
   ],
   "source": [
    "Number_3 * Number_4"
   ]
  },
  {
   "cell_type": "code",
   "execution_count": 20,
   "id": "58f1ffc0",
   "metadata": {},
   "outputs": [
    {
     "data": {
      "text/plain": [
       "2.2857142857142856"
      ]
     },
     "execution_count": 20,
     "metadata": {},
     "output_type": "execute_result"
    }
   ],
   "source": [
    "Number_2 / Number_1"
   ]
  },
  {
   "cell_type": "code",
   "execution_count": 21,
   "id": "2fdaf90b",
   "metadata": {},
   "outputs": [
    {
     "data": {
      "text/plain": [
       "2.2583333333333333"
      ]
     },
     "execution_count": 21,
     "metadata": {},
     "output_type": "execute_result"
    }
   ],
   "source": [
    "Number_3 / Number_4"
   ]
  },
  {
   "cell_type": "code",
   "execution_count": 22,
   "id": "2a69ae8b",
   "metadata": {},
   "outputs": [
    {
     "data": {
      "text/plain": [
       "14"
      ]
     },
     "execution_count": 22,
     "metadata": {},
     "output_type": "execute_result"
    }
   ],
   "source": [
    "Number_1 % Number_2"
   ]
  },
  {
   "cell_type": "code",
   "execution_count": 24,
   "id": "26622b78",
   "metadata": {},
   "outputs": [
    {
     "data": {
      "text/plain": [
       "24.0"
      ]
     },
     "execution_count": 24,
     "metadata": {},
     "output_type": "execute_result"
    }
   ],
   "source": [
    "Number_4 % Number_3"
   ]
  },
  {
   "cell_type": "code",
   "execution_count": 26,
   "id": "9b68baa9",
   "metadata": {},
   "outputs": [
    {
     "data": {
      "text/plain": [
       "4743480741674980702700443299789930496"
      ]
     },
     "execution_count": 26,
     "metadata": {},
     "output_type": "execute_result"
    }
   ],
   "source": [
    "Number_1 ** Number_2"
   ]
  },
  {
   "cell_type": "code",
   "execution_count": 27,
   "id": "6e5d6f09",
   "metadata": {},
   "outputs": [
    {
     "data": {
      "text/plain": [
       "16"
      ]
     },
     "execution_count": 27,
     "metadata": {},
     "output_type": "execute_result"
    }
   ],
   "source": [
    "4**2"
   ]
  },
  {
   "cell_type": "code",
   "execution_count": 28,
   "id": "b7206ea1",
   "metadata": {},
   "outputs": [
    {
     "data": {
      "text/plain": [
       "2.0"
      ]
     },
     "execution_count": 28,
     "metadata": {},
     "output_type": "execute_result"
    }
   ],
   "source": [
    "Number_3 // Number_4"
   ]
  },
  {
   "cell_type": "code",
   "execution_count": 29,
   "id": "eed1e8cb",
   "metadata": {},
   "outputs": [
    {
     "data": {
      "text/plain": [
       "63.0"
      ]
     },
     "execution_count": 29,
     "metadata": {},
     "output_type": "execute_result"
    }
   ],
   "source": [
    "8 + 32 * 10 / 5 - 9 "
   ]
  },
  {
   "cell_type": "code",
   "execution_count": 30,
   "id": "6a9224ff",
   "metadata": {},
   "outputs": [
    {
     "data": {
      "text/plain": [
       "63.0"
      ]
     },
     "execution_count": 30,
     "metadata": {},
     "output_type": "execute_result"
    }
   ],
   "source": [
    "8 + ((32*10)/5) -9"
   ]
  },
  {
   "cell_type": "code",
   "execution_count": null,
   "id": "998d7640",
   "metadata": {},
   "outputs": [],
   "source": []
  }
 ],
 "metadata": {
  "kernelspec": {
   "display_name": "Python 3 (ipykernel)",
   "language": "python",
   "name": "python3"
  },
  "language_info": {
   "codemirror_mode": {
    "name": "ipython",
    "version": 3
   },
   "file_extension": ".py",
   "mimetype": "text/x-python",
   "name": "python",
   "nbconvert_exporter": "python",
   "pygments_lexer": "ipython3",
   "version": "3.9.7"
  }
 },
 "nbformat": 4,
 "nbformat_minor": 5
}
